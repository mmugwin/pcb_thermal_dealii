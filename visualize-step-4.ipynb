{
 "cells": [
  {
   "cell_type": "code",
   "execution_count": 36,
   "metadata": {
    "scrolled": true
   },
   "outputs": [
    {
     "data": {
      "application/vnd.jupyter.widget-view+json": {
       "model_id": "f58053afab2641aba96829d5699dabcd",
       "version_major": 2,
       "version_minor": 0
      },
      "text/plain": [
       "ViewInteractiveWidget(height=768, layout=Layout(height='auto', width='100%'), width=1024)"
      ]
     },
     "metadata": {},
     "output_type": "display_data"
    }
   ],
   "source": [
    "import pyvista as pv\n",
    "\n",
    "# read the data\n",
    "grid = pv.read('solution-3d.vtk')\n",
    "\n",
    "# plot the data with an automatically created Plotter\n",
    "grid.plot()"
   ]
  },
  {
   "cell_type": "code",
   "execution_count": 34,
   "metadata": {},
   "outputs": [
    {
     "name": "stdout",
     "output_type": "stream",
     "text": [
      "UnstructuredGrid (0x2a0b122b520)\n",
      "  N Cells:\t4096\n",
      "  N Points:\t32768\n",
      "  X Bounds:\t-1.000e+00, 1.000e+00\n",
      "  Y Bounds:\t-1.000e+00, 1.000e+00\n",
      "  Z Bounds:\t-1.000e+00, 1.000e+00\n",
      "  N Arrays:\t1\n",
      "\n"
     ]
    }
   ],
   "source": [
    "print(grid)"
   ]
  }
 ],
 "metadata": {
  "kernelspec": {
   "display_name": "Python 3",
   "language": "python",
   "name": "python3"
  },
  "language_info": {
   "codemirror_mode": {
    "name": "ipython",
    "version": 3
   },
   "file_extension": ".py",
   "mimetype": "text/x-python",
   "name": "python",
   "nbconvert_exporter": "python",
   "pygments_lexer": "ipython3",
   "version": "3.8.8"
  }
 },
 "nbformat": 4,
 "nbformat_minor": 4
}
